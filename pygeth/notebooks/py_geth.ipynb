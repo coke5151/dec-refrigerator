{
 "cells": [
  {
   "cell_type": "code",
   "execution_count": 1,
   "id": "dcb3d12b-d936-4f2b-aad3-e2b4918252e7",
   "metadata": {},
   "outputs": [
    {
     "name": "stdout",
     "output_type": "stream",
     "text": [
      "Hello World\n"
     ]
    }
   ],
   "source": [
    "print(\"Hello World\")"
   ]
  },
  {
   "cell_type": "code",
   "execution_count": 7,
   "id": "1b4ad776",
   "metadata": {},
   "outputs": [],
   "source": [
    "import os\n",
    "\n",
    "os.environ[\"GETH_BINARY\"] = \"C:\\\\geth-alltools-windows-amd64-1.10.26-e5eb32ac\\\\geth.exe\"\n"
   ]
  },
  {
   "cell_type": "code",
   "execution_count": 10,
   "id": "a26fc7ea-5ab3-44ef-8379-a26f5e06ea17",
   "metadata": {},
   "outputs": [],
   "source": [
    "from geth import MainnetGethProcess\n",
    "from geth.types import GethKwargsTypedDict\n"
   ]
  },
  {
   "cell_type": "code",
   "execution_count": 9,
   "id": "58bd9cc6-c1cb-49c9-8511-3607bde3159b",
   "metadata": {},
   "outputs": [],
   "source": [
    "node1 = MainnetGethProcess(geth_kwargs=GethKwargsTypedDict(\n",
    "    data_dir=\"../../geth/node1\",\n",
    "    dev_mode=False,\n",
    "    ipc_disable=True,\n",
    "    network_id=\"123456\",\n",
    "    no_discover=True,\n",
    "    port=\"8000\",\n",
    "    rpc_addr=\"\"\n",
    "))\n"
   ]
  }
 ],
 "metadata": {
  "kernelspec": {
   "display_name": "Python 3 (ipykernel)",
   "language": "python",
   "name": "python3"
  },
  "language_info": {
   "codemirror_mode": {
    "name": "ipython",
    "version": 3
   },
   "file_extension": ".py",
   "mimetype": "text/x-python",
   "name": "python",
   "nbconvert_exporter": "python",
   "pygments_lexer": "ipython3",
   "version": "3.12.4"
  }
 },
 "nbformat": 4,
 "nbformat_minor": 5
}

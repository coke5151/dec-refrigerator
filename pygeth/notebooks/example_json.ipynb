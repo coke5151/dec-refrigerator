{
 "cells": [
  {
   "cell_type": "code",
   "execution_count": 5,
   "id": "a97ab8c4-894c-4e11-8e71-b8bfd78adc4e",
   "metadata": {},
   "outputs": [],
   "source": [
    "food_in = {\n",
    "    \"name\": \"蘋果\",\n",
    "    \"insert_time\": \"\",\n",
    "    \"due_date\": \"\",\n",
    "    \"money_cost\": 30.5,\n",
    "    \"buyer_address\": \"0x001\",\n",
    "    \"notes\": \"路過菜市場順便買\"\n",
    "}"
   ]
  },
  {
   "cell_type": "code",
   "execution_count": 4,
   "id": "830df7ec-fcb9-40b0-86dd-f331675739d5",
   "metadata": {},
   "outputs": [
    {
     "data": {
      "text/plain": [
       "'蘋果'"
      ]
     },
     "execution_count": 4,
     "metadata": {},
     "output_type": "execute_result"
    }
   ],
   "source": [
    "food_in[\"name\"]"
   ]
  },
  {
   "cell_type": "code",
   "execution_count": null,
   "id": "d1dfa85a-236a-4920-bdc9-246197c60d01",
   "metadata": {},
   "outputs": [],
   "source": []
  }
 ],
 "metadata": {
  "kernelspec": {
   "display_name": "Python 3 (ipykernel)",
   "language": "python",
   "name": "python3"
  },
  "language_info": {
   "codemirror_mode": {
    "name": "ipython",
    "version": 3
   },
   "file_extension": ".py",
   "mimetype": "text/x-python",
   "name": "python",
   "nbconvert_exporter": "python",
   "pygments_lexer": "ipython3",
   "version": "3.12.4"
  }
 },
 "nbformat": 4,
 "nbformat_minor": 5
}

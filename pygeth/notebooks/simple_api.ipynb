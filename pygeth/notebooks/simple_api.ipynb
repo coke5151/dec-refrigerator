{
 "cells": [
  {
   "cell_type": "code",
   "execution_count": 1,
   "metadata": {},
   "outputs": [
    {
     "name": "stdout",
     "output_type": "stream",
     "text": [
      "Hello, World!\n"
     ]
    }
   ],
   "source": [
    "print(\"Hello, World!\")"
   ]
  },
  {
   "cell_type": "code",
   "execution_count": 2,
   "metadata": {},
   "outputs": [],
   "source": [
    "from pydantic import BaseModel"
   ]
  },
  {
   "cell_type": "markdown",
   "metadata": {},
   "source": [
    "# Pydantic"
   ]
  },
  {
   "cell_type": "code",
   "execution_count": 3,
   "metadata": {},
   "outputs": [],
   "source": [
    "class AccountJoinRequest(BaseModel):\n",
    "    name: str\n",
    "    address: str\n",
    "    join_id: str"
   ]
  },
  {
   "cell_type": "code",
   "execution_count": 4,
   "metadata": {},
   "outputs": [],
   "source": [
    "class FoodInsert(BaseModel):\n",
    "    name: str\n",
    "    insert_time: str\n",
    "    due_date: str | None = None\n",
    "    money_cost: float\n",
    "    buyer_address: str\n",
    "    group_id: str\n",
    "    notes: str | None = None"
   ]
  },
  {
   "cell_type": "code",
   "execution_count": 5,
   "metadata": {},
   "outputs": [],
   "source": [
    "class Food(BaseModel):\n",
    "    name: str\n",
    "    insert_time: str\n",
    "    due_date: str | None = None\n",
    "    money_cost: float\n",
    "    buyer_address: str\n",
    "    quantity_left_percentage: float\n",
    "    food_address: str\n",
    "    simpler_food_address: str\n",
    "    group_id: str\n",
    "    notes: str | None = None"
   ]
  },
  {
   "cell_type": "code",
   "execution_count": 6,
   "metadata": {},
   "outputs": [],
   "source": [
    "class FoodUsageRecord(BaseModel):\n",
    "    use_time: str\n",
    "    use_food_group_id: str\n",
    "    use_food_address: str\n",
    "    use_food_amount_percentage: float\n",
    "    participant_addresses: list[str]\n",
    "    notes: str"
   ]
  },
  {
   "cell_type": "code",
   "execution_count": 7,
   "metadata": {},
   "outputs": [],
   "source": [
    "class TransferRecord(BaseModel):\n",
    "    transfer_time: str\n",
    "    from_address: str\n",
    "    to_address: str\n",
    "    amount: float\n",
    "    notes: str | None = None"
   ]
  },
  {
   "cell_type": "markdown",
   "metadata": {},
   "source": [
    "# Database"
   ]
  },
  {
   "cell_type": "code",
   "execution_count": 8,
   "metadata": {},
   "outputs": [],
   "source": [
    "import random\n",
    "def random_address():\n",
    "    return f\"0x{random.random()*100000000}\""
   ]
  },
  {
   "cell_type": "code",
   "execution_count": 9,
   "metadata": {},
   "outputs": [],
   "source": [
    "# class Food(BaseModel):\n",
    "#     name: str\n",
    "#     insert_time: str\n",
    "#     due_date: str | None = None\n",
    "#     money_cost: float\n",
    "#     buyer_address: str\n",
    "#     quantity_left_percentage: float\n",
    "#     food_address: str\n",
    "#     group_id: str\n",
    "#     notes: str | None = None\n",
    "\n",
    "# class FoodInsert(BaseModel):\n",
    "#     name: str\n",
    "#     insert_time: str\n",
    "#     due_date: str | None = None\n",
    "#     money_cost: float\n",
    "#     buyer_address: str\n",
    "#     group_id: str\n",
    "#     notes: str | None = None\n",
    "\n",
    "class Database:\n",
    "    def __init__(self):\n",
    "        self.foods: list[Food] = []\n",
    "\n",
    "    def insert(self, fi: FoodInsert):\n",
    "        address = random_address()\n",
    "        f = Food(\n",
    "            name = fi.name,\n",
    "            insert_time = fi.insert_time,\n",
    "            due_date = fi.due_date,\n",
    "            money_cost = fi.money_cost,\n",
    "            buyer_address = fi.buyer_address,\n",
    "            quantity_left_percentage = 100,\n",
    "            food_address = address,\n",
    "            simpler_food_address = address[:4],\n",
    "            group_id = fi.group_id,\n",
    "            notes = fi.notes\n",
    "        )\n",
    "        self.foods.append(f)"
   ]
  },
  {
   "cell_type": "code",
   "execution_count": 10,
   "metadata": {},
   "outputs": [],
   "source": [
    "db = Database()"
   ]
  },
  {
   "cell_type": "code",
   "execution_count": 11,
   "metadata": {},
   "outputs": [
    {
     "data": {
      "text/plain": [
       "[]"
      ]
     },
     "execution_count": 11,
     "metadata": {},
     "output_type": "execute_result"
    }
   ],
   "source": [
    "db.foods"
   ]
  },
  {
   "cell_type": "code",
   "execution_count": null,
   "metadata": {},
   "outputs": [],
   "source": []
  },
  {
   "cell_type": "code",
   "execution_count": null,
   "metadata": {},
   "outputs": [],
   "source": []
  },
  {
   "cell_type": "markdown",
   "metadata": {},
   "source": [
    "# FastAPI"
   ]
  },
  {
   "cell_type": "code",
   "execution_count": 12,
   "metadata": {},
   "outputs": [],
   "source": [
    "from fastapi import FastAPI"
   ]
  },
  {
   "cell_type": "code",
   "execution_count": 13,
   "metadata": {},
   "outputs": [],
   "source": [
    "app = FastAPI()"
   ]
  },
  {
   "cell_type": "code",
   "execution_count": 14,
   "metadata": {},
   "outputs": [],
   "source": [
    "@app.get(\"/\")\n",
    "async def read_root():\n",
    "    return {\"message\": \"查看 /docs 以獲得詳盡的 API Document\"}"
   ]
  },
  {
   "cell_type": "code",
   "execution_count": 15,
   "metadata": {},
   "outputs": [],
   "source": [
    "@app.get(\"/helloworld\")\n",
    "async def hello_world():\n",
    "    \"\"\"回傳 \\\"Hello, World!\\\"\"\"\"\n",
    "    return {\n",
    "        \"message\": \"Hello, World!\"\n",
    "    }"
   ]
  },
  {
   "cell_type": "code",
   "execution_count": 16,
   "metadata": {},
   "outputs": [],
   "source": [
    "@app.get(\"/account/single\")\n",
    "async def single_account_data(address: str):\n",
    "    \"\"\"取得指定 address 的資料\"\"\"\n",
    "    return {\n",
    "        \"message\": f\"已收到你的請求，你的地址是 {address}。回傳的 data 僅包含你的資料\",\n",
    "        \"name\": \"小明\",\n",
    "        \"address\": address,\n",
    "        \"group_id\": \"decen\",\n",
    "        \"balance\": 50\n",
    "    }"
   ]
  },
  {
   "cell_type": "code",
   "execution_count": 17,
   "metadata": {},
   "outputs": [],
   "source": [
    "@app.get(\"/account/all/\")\n",
    "async def all_account_data(group_id: str):\n",
    "    \"\"\"回傳指定 group 中所有 account 的資料\"\"\"\n",
    "    return {\n",
    "        \"message\": f\"已收到你的請求，回傳 group_id: {group_id} 的所有 account 資料\",\n",
    "        \"group_id\": group_id,\n",
    "        \"account\": [\n",
    "            {\n",
    "                \"name\": \"小明\",\n",
    "                \"address\": \"0x123\",\n",
    "                \"balance\": 50\n",
    "            },\n",
    "            {\n",
    "                \"name\": \"小華\",\n",
    "                \"address\": \"0x125\",\n",
    "                \"balance\": 500\n",
    "            },\n",
    "            {\n",
    "                \"name\": \"小美\",\n",
    "                \"address\": \"0x127\",\n",
    "                \"balance\": 5269\n",
    "            }\n",
    "        ]\n",
    "    }"
   ]
  },
  {
   "cell_type": "code",
   "execution_count": 18,
   "metadata": {},
   "outputs": [],
   "source": [
    "@app.get(\"/account/transfer/\")\n",
    "async def all_transfer_records_in_group(group_id: str):\n",
    "    \"\"\"回傳指定 group 中所有的交易記錄\"\"\"\n",
    "    return {\n",
    "        \"message\": f\"已收到你的請求，回傳 group_id: {group_id} 的所有交易記錄\",\n",
    "        \"group_id\": group_id,\n",
    "        \"transactions\": [\n",
    "            {\n",
    "                \"transfer_time\": \"1733927340000000\",\n",
    "                \"from_address\": \"0x123\",\n",
    "                \"from_name\": \"小明\",\n",
    "                \"to_address\": \"0x125\",\n",
    "                \"to_name\": \"小華\",\n",
    "                \"amount\": 30,\n",
    "                \"notes\": \"還給你\"\n",
    "            },\n",
    "            {\n",
    "                \"transfer_time\": \"1733927240000000\",\n",
    "                \"from_address\": \"0x125\",\n",
    "                \"from_name\": \"小華\",\n",
    "                \"to_address\": \"0x123\",\n",
    "                \"to_name\": \"小明\",\n",
    "                \"amount\": 30,\n",
    "                \"notes\": \"轉帳測試\"\n",
    "            }            \n",
    "        ]\n",
    "    }"
   ]
  },
  {
   "cell_type": "code",
   "execution_count": 19,
   "metadata": {},
   "outputs": [],
   "source": [
    "@app.post(\"/account/transfer/\")\n",
    "async def account_transfer(record: TransferRecord):\n",
    "    \"\"\"新增轉帳記錄\"\"\"\n",
    "    processed = record\n",
    "    processed.notes = f\"已成功收到您的新增轉帳記錄，原本您留的 notes: {record.notes}\"\n",
    "    return processed"
   ]
  },
  {
   "cell_type": "code",
   "execution_count": 20,
   "metadata": {},
   "outputs": [],
   "source": [
    "@app.post(\"/account/join_group/\")\n",
    "async def join_group(request: AccountJoinRequest):\n",
    "    \"\"\"將帳戶加入群組\"\"\"\n",
    "    addr = request.address\n",
    "    join_id = request.join_id\n",
    "    return {\n",
    "        \"message\": f\"已收到 {addr} 加入 id: {join_id} 群組的請求\",\n",
    "        \"address\": addr,\n",
    "        \"join_id\": join_id\n",
    "    }"
   ]
  },
  {
   "cell_type": "code",
   "execution_count": null,
   "metadata": {},
   "outputs": [],
   "source": []
  },
  {
   "cell_type": "code",
   "execution_count": 21,
   "metadata": {},
   "outputs": [],
   "source": [
    "@app.get(\"/food/all/\")\n",
    "async def get_all_food(group_id: str):\n",
    "    \"\"\"取得指定 group 中所有尚有存量的食物資料\"\"\"\n",
    "    # f1 = Food(\n",
    "    #     name = \"食物1\",\n",
    "    #     insert_time = \"YESTERDAY\",\n",
    "    #     money_cost = 5.2,\n",
    "    #     buyer_address = \"0x001\",\n",
    "    #     quantity_left_percentage = 50,\n",
    "    #     food_address = \"0x234\",\n",
    "    #     group_id = \"sa\"\n",
    "    # )\n",
    "    \n",
    "    # f2 = Food(\n",
    "    #     name = \"食物2\",\n",
    "    #     insert_time = \"TODAY\",\n",
    "    #     money_cost = 102,\n",
    "    #     buyer_address = \"0x001\",\n",
    "    #     quantity_left_percentage = 30,\n",
    "    #     food_address = \"0x235\",\n",
    "    #     group_id = \"sa\"\n",
    "    # )\n",
    "\n",
    "    # all_foods = [f1, f2]\n",
    "    return {\n",
    "        \"message\": f\"回傳 group_id 為 {group_id} 且尚有存量的食物列表\",\n",
    "        \"food\": db.foods\n",
    "    }"
   ]
  },
  {
   "cell_type": "code",
   "execution_count": 22,
   "metadata": {},
   "outputs": [],
   "source": [
    "@app.post(\"/food/insert/\")\n",
    "async def insert_food(food: FoodInsert):\n",
    "    \"\"\"在指定的 group 中新增食物\"\"\"\n",
    "    processed = food\n",
    "    print(food)\n",
    "    processed.notes = f\"已成功收到您的新增食物記錄，原本您留的 notes: {food.notes}\"\n",
    "    db.insert(food)\n",
    "    return processed"
   ]
  },
  {
   "cell_type": "code",
   "execution_count": 23,
   "metadata": {},
   "outputs": [],
   "source": [
    "@app.post(\"/food/use/\")\n",
    "async def use_food(record: FoodUsageRecord):\n",
    "    \"\"\"使用指定的食物\"\"\"\n",
    "    processed = record\n",
    "    processed.notes = f\"已成功收到您的使用食材記錄，原本您留的 notes: {record.notes}\"\n",
    "    return processed"
   ]
  },
  {
   "cell_type": "code",
   "execution_count": null,
   "metadata": {},
   "outputs": [
    {
     "name": "stderr",
     "output_type": "stream",
     "text": [
      "INFO:     Started server process [11492]\n",
      "INFO:     Waiting for application startup.\n",
      "INFO:     Application startup complete.\n",
      "INFO:     Uvicorn running on http://0.0.0.0:25565 (Press CTRL+C to quit)\n"
     ]
    },
    {
     "name": "stdout",
     "output_type": "stream",
     "text": [
      "INFO:     192.168.1.1:60174 - \"GET /food/all?group_id=123 HTTP/1.1\" 307 Temporary Redirect\n",
      "INFO:     192.168.1.1:60174 - \"GET /food/all/?group_id=123 HTTP/1.1\" 200 OK\n",
      "INFO:     192.168.1.1:60176 - \"GET /food/all?group_id=123 HTTP/1.1\" 307 Temporary Redirect\n",
      "INFO:     192.168.1.1:60176 - \"GET /food/all/?group_id=123 HTTP/1.1\" 200 OK\n",
      "INFO:     192.168.1.1:60200 - \"GET /food/all?group_id=123 HTTP/1.1\" 307 Temporary Redirect\n",
      "INFO:     192.168.1.1:60190 - \"GET /food/all?group_id=123 HTTP/1.1\" 307 Temporary Redirect\n",
      "INFO:     192.168.1.1:60200 - \"GET /food/all/?group_id=123 HTTP/1.1\" 200 OK\n",
      "INFO:     192.168.1.1:60190 - \"GET /food/all/?group_id=123 HTTP/1.1\" 200 OK\n",
      "INFO:     192.168.1.1:60210 - \"GET /food/all?group_id=123 HTTP/1.1\" 307 Temporary Redirect\n",
      "INFO:     192.168.1.1:60210 - \"GET /food/all/?group_id=123 HTTP/1.1\" 200 OK\n",
      "INFO:     192.168.1.1:60234 - \"GET /account/all?group_id=123 HTTP/1.1\" 307 Temporary Redirect\n",
      "INFO:     192.168.1.1:60214 - \"GET /account/single?address=0x123 HTTP/1.1\" 200 OK\n",
      "INFO:     192.168.1.1:60230 - \"GET /account/transfer?group_id=123 HTTP/1.1\" 307 Temporary Redirect\n",
      "INFO:     192.168.1.1:60234 - \"GET /account/all/?group_id=123 HTTP/1.1\" 200 OK\n",
      "INFO:     192.168.1.1:60230 - \"GET /account/transfer/?group_id=123 HTTP/1.1\" 200 OK\n"
     ]
    }
   ],
   "source": [
    "import uvicorn\n",
    "config = uvicorn.Config(app, host=\"0.0.0.0\", port=25565)\n",
    "server = uvicorn.Server(config)\n",
    "await server.serve()"
   ]
  },
  {
   "cell_type": "code",
   "execution_count": null,
   "metadata": {},
   "outputs": [],
   "source": []
  }
 ],
 "metadata": {
  "kernelspec": {
   "display_name": "Python 3 (ipykernel)",
   "language": "python",
   "name": "python3"
  },
  "language_info": {
   "codemirror_mode": {
    "name": "ipython",
    "version": 3
   },
   "file_extension": ".py",
   "mimetype": "text/x-python",
   "name": "python",
   "nbconvert_exporter": "python",
   "pygments_lexer": "ipython3",
   "version": "3.12.4"
  }
 },
 "nbformat": 4,
 "nbformat_minor": 4
}

{
 "cells": [
  {
   "cell_type": "code",
   "execution_count": 2,
   "id": "4e6fd66d-78e2-43dd-adcc-5ac7760226c4",
   "metadata": {},
   "outputs": [],
   "source": [
    "from web3 import HTTPProvider, Web3"
   ]
  },
  {
   "cell_type": "code",
   "execution_count": 3,
   "id": "cdfc4733-df43-4eea-a1a3-22ca8a3651d5",
   "metadata": {},
   "outputs": [],
   "source": [
    "import json\n",
    "import time"
   ]
  },
  {
   "cell_type": "code",
   "execution_count": 6,
   "id": "a432d5b4-d5d5-409f-a2ed-8144b57a82d9",
   "metadata": {},
   "outputs": [],
   "source": [
    "web3 = Web3(HTTPProvider(\"http://localhost:7545\"))"
   ]
  },
  {
   "cell_type": "code",
   "execution_count": 7,
   "id": "b1c083ce-f765-4f29-bf2c-772298c1ae51",
   "metadata": {},
   "outputs": [],
   "source": [
    "block = web3.eth.get_block(\"latest\")"
   ]
  },
  {
   "cell_type": "code",
   "execution_count": 8,
   "id": "cda5ef5b-9641-4490-8618-0ab353edfd2e",
   "metadata": {},
   "outputs": [
    {
     "data": {
      "text/plain": [
       "AttributeDict({'hash': HexBytes('0xccab8b12d8b1192c06acf77f2a30f7cbb5dff6c1ca1a9166b5c18ef92a3b5726'),\n",
       " 'parentHash': HexBytes('0x7b738f0b420c35f695ecb7477248019bd2dcfe70b58531135947980892bfca32'),\n",
       " 'sha3Uncles': HexBytes('0x1dcc4de8dec75d7aab85b567b6ccd41ad312451b948a7413f0a142fd40d49347'),\n",
       " 'miner': '0x0000000000000000000000000000000000000000',\n",
       " 'stateRoot': HexBytes('0xc91ae751b7c81537b3c6bd8624629001fdb035372b9940f19267e768c9d0b019'),\n",
       " 'transactionsRoot': HexBytes('0x644ab9a575b75e8883e519ed5ab01e6e0845dea64c9bbb1622bced27d54ebe33'),\n",
       " 'receiptsRoot': HexBytes('0xa53838d14f794da942c74d515a4d1fb19dd55649bf82708cfd1c7941a7bcd648'),\n",
       " 'logsBloom': HexBytes('0x00000000000000000000000000000000000000000000000000000000000000000000000000000000000000000000000000000000000000000000000000000000000000000000000000000000000000000000000000000000000000000000000000000000000000000000000000000000000000000000000000000000000000000000000000000000000000000000000000000000000000000000000000000000000000000000000000000000000000000000000000000000000000000000000000000000000000000000000000000000000000000000000000000000000000000000000000000000000000000000000000000000000000000000000000000000'),\n",
       " 'difficulty': 0,\n",
       " 'number': 1,\n",
       " 'gasLimit': 6721975,\n",
       " 'gasUsed': 3165034,\n",
       " 'timestamp': 1733983345,\n",
       " 'extraData': HexBytes('0x'),\n",
       " 'mixHash': HexBytes('0x8b27ef71027ecda8fdffe007b2e59c8e830518f42efdb09025b5cb9eaec34723'),\n",
       " 'nonce': HexBytes('0x0000000000000000'),\n",
       " 'totalDifficulty': 0,\n",
       " 'baseFeePerGas': 875000000,\n",
       " 'size': 15081,\n",
       " 'transactions': [HexBytes('0x74012ab9be14052574bc85b780fa96d86f1188965a6e464208161b968e9fa391')],\n",
       " 'uncles': []})"
      ]
     },
     "execution_count": 8,
     "metadata": {},
     "output_type": "execute_result"
    }
   ],
   "source": [
    "block"
   ]
  },
  {
   "cell_type": "code",
   "execution_count": null,
   "id": "2d63262a-2ebc-40d9-b2ab-c56145545a52",
   "metadata": {},
   "outputs": [],
   "source": []
  }
 ],
 "metadata": {
  "kernelspec": {
   "display_name": "Python 3 (ipykernel)",
   "language": "python",
   "name": "python3"
  },
  "language_info": {
   "codemirror_mode": {
    "name": "ipython",
    "version": 3
   },
   "file_extension": ".py",
   "mimetype": "text/x-python",
   "name": "python",
   "nbconvert_exporter": "python",
   "pygments_lexer": "ipython3",
   "version": "3.12.4"
  }
 },
 "nbformat": 4,
 "nbformat_minor": 5
}
